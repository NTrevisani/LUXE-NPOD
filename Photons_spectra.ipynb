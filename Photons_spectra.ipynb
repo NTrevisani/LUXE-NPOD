{
 "cells": [
  {
   "cell_type": "markdown",
   "metadata": {},
   "source": [
    "# Photons Spectra at Physical Dump\n",
    "\n",
    "Determination of the energy spectrum of the primary photons hitting the LUXE-NPOD physical dump and energy spectrum of secondary photons produced inside the dump.\n",
    "\n",
    "They are responsible for the production of ALPs in the dump material.\n",
    "\n",
    "The energy spectra are used to weight the MadGraph signal samples for ALP production at LUXE-NPOD."
   ]
  },
  {
   "cell_type": "markdown",
   "metadata": {},
   "source": [
    "The samples are located at DESY:\n",
    "`/nfs/dust/luxe/group/MCProduction/Signal/g4/ptarmigan-v0.11/elaser/phase1/npod/`"
   ]
  },
  {
   "cell_type": "code",
   "execution_count": 1,
   "metadata": {},
   "outputs": [
    {
     "name": "stdout",
     "output_type": "stream",
     "text": [
      "/nfs/dust/luxe/group/MCProduction/Signal/g4/ptarmigan-v0.11/elaser/phase1/npod/luxe_npod_signal_e1npod_0_5_165gev_cv9qgsphp_tv33_hv1_0_8636.root\n",
      "/nfs/dust/luxe/group/MCProduction/Signal/g4/ptarmigan-v0.11/elaser/phase1/npod/luxe_npod_signal_e1npod_0_5_165gev_cv9qgsphp_tv33_hv1_0_8637.root\n",
      "/nfs/dust/luxe/group/MCProduction/Signal/g4/ptarmigan-v0.11/elaser/phase1/npod/luxe_npod_signal_e1npod_0_5_165gev_cv9qgsphp_tv33_hv1_0_8638.root\n",
      "/nfs/dust/luxe/group/MCProduction/Signal/g4/ptarmigan-v0.11/elaser/phase1/npod/luxe_npod_signal_e1npod_0_5_165gev_cv9qgsphp_tv33_hv1_0_8639.root\n",
      "/nfs/dust/luxe/group/MCProduction/Signal/g4/ptarmigan-v0.11/elaser/phase1/npod/luxe_npod_signal_e1npod_0_5_165gev_cv9qgsphp_tv33_hv1_0_8640.root\n",
      "/nfs/dust/luxe/group/MCProduction/Signal/g4/ptarmigan-v0.11/elaser/phase1/npod/luxe_npod_signal_e1npod_0_5_165gev_cv9qgsphp_tv33_hv1_0_8641.root\n",
      "/nfs/dust/luxe/group/MCProduction/Signal/g4/ptarmigan-v0.11/elaser/phase1/npod/luxe_npod_signal_e1npod_0_5_165gev_cv9qgsphp_tv33_hv1_0_8642.root\n",
      "/nfs/dust/luxe/group/MCProduction/Signal/g4/ptarmigan-v0.11/elaser/phase1/npod/luxe_npod_signal_e1npod_0_5_165gev_cv9qgsphp_tv33_hv1_0_8643.root\n",
      "/nfs/dust/luxe/group/MCProduction/Signal/g4/ptarmigan-v0.11/elaser/phase1/npod/luxe_npod_signal_e1npod_0_5_165gev_cv9qgsphp_tv33_hv1_0_8644.root\n",
      "/nfs/dust/luxe/group/MCProduction/Signal/g4/ptarmigan-v0.11/elaser/phase1/npod/luxe_npod_signal_e1npod_0_5_165gev_cv9qgsphp_tv33_hv1_0_8645.root\n",
      "/nfs/dust/luxe/group/MCProduction/Signal/g4/ptarmigan-v0.11/elaser/phase1/npod/luxe_npod_signal_e1npod_0_5_165gev_cv9qgsphp_tv33_hv1_0_8646.root\n",
      "/nfs/dust/luxe/group/MCProduction/Signal/g4/ptarmigan-v0.11/elaser/phase1/npod/luxe_npod_signal_e1npod_0_5_165gev_cv9qgsphp_tv33_hv1_0_8647.root\n",
      "/nfs/dust/luxe/group/MCProduction/Signal/g4/ptarmigan-v0.11/elaser/phase1/npod/luxe_npod_signal_e1npod_0_5_165gev_cv9qgsphp_tv33_hv1_0_8648.root\n",
      "/nfs/dust/luxe/group/MCProduction/Signal/g4/ptarmigan-v0.11/elaser/phase1/npod/luxe_npod_signal_e1npod_0_5_165gev_cv9qgsphp_tv33_hv1_0_8649.root\n",
      "/nfs/dust/luxe/group/MCProduction/Signal/g4/ptarmigan-v0.11/elaser/phase1/npod/luxe_npod_signal_e1npod_0_5_165gev_cv9qgsphp_tv33_hv1_0_8650.root\n",
      "/nfs/dust/luxe/group/MCProduction/Signal/g4/ptarmigan-v0.11/elaser/phase1/npod/luxe_npod_signal_e1npod_0_5_165gev_cv9qgsphp_tv33_hv1_0_8651.root\n",
      "/nfs/dust/luxe/group/MCProduction/Signal/g4/ptarmigan-v0.11/elaser/phase1/npod/luxe_npod_signal_e1npod_0_5_165gev_cv9qgsphp_tv33_hv1_0_8652.root\n",
      "/nfs/dust/luxe/group/MCProduction/Signal/g4/ptarmigan-v0.11/elaser/phase1/npod/luxe_npod_signal_e1npod_0_5_165gev_cv9qgsphp_tv33_hv1_0_8653.root\n",
      "/nfs/dust/luxe/group/MCProduction/Signal/g4/ptarmigan-v0.11/elaser/phase1/npod/luxe_npod_signal_e1npod_0_5_165gev_cv9qgsphp_tv33_hv1_0_8654.root\n",
      "/nfs/dust/luxe/group/MCProduction/Signal/g4/ptarmigan-v0.11/elaser/phase1/npod/luxe_npod_signal_e1npod_0_5_165gev_cv9qgsphp_tv33_hv1_0_8655.root\n",
      "/nfs/dust/luxe/group/MCProduction/Signal/g4/ptarmigan-v0.11/elaser/phase1/npod/luxe_npod_signal_e1npod_0_5_165gev_cv9qgsphp_tv33_hv1_0_8656.root\n",
      "/nfs/dust/luxe/group/MCProduction/Signal/g4/ptarmigan-v0.11/elaser/phase1/npod/luxe_npod_signal_e1npod_0_5_165gev_cv9qgsphp_tv33_hv1_0_8657.root\n",
      "/nfs/dust/luxe/group/MCProduction/Signal/g4/ptarmigan-v0.11/elaser/phase1/npod/luxe_npod_signal_e1npod_0_5_165gev_cv9qgsphp_tv33_hv1_0_8658.root\n",
      "/nfs/dust/luxe/group/MCProduction/Signal/g4/ptarmigan-v0.11/elaser/phase1/npod/luxe_npod_signal_e1npod_0_5_165gev_cv9qgsphp_tv33_hv1_0_8659.root\n",
      "/nfs/dust/luxe/group/MCProduction/Signal/g4/ptarmigan-v0.11/elaser/phase1/npod/luxe_npod_signal_e1npod_0_5_165gev_cv9qgsphp_tv33_hv1_0_8660.root\n",
      "/nfs/dust/luxe/group/MCProduction/Signal/g4/ptarmigan-v0.11/elaser/phase1/npod/luxe_npod_signal_e1npod_0_5_165gev_cv9qgsphp_tv33_hv1_0_8661.root\n",
      "/nfs/dust/luxe/group/MCProduction/Signal/g4/ptarmigan-v0.11/elaser/phase1/npod/luxe_npod_signal_e1npod_0_5_165gev_cv9qgsphp_tv33_hv1_0_8662.root\n",
      "/nfs/dust/luxe/group/MCProduction/Signal/g4/ptarmigan-v0.11/elaser/phase1/npod/luxe_npod_signal_e1npod_0_5_165gev_cv9qgsphp_tv33_hv1_0_8663.root\n",
      "/nfs/dust/luxe/group/MCProduction/Signal/g4/ptarmigan-v0.11/elaser/phase1/npod/luxe_npod_signal_e1npod_0_5_165gev_cv9qgsphp_tv33_hv1_0_8664.root\n",
      "/nfs/dust/luxe/group/MCProduction/Signal/g4/ptarmigan-v0.11/elaser/phase1/npod/luxe_npod_signal_e1npod_0_5_165gev_cv9qgsphp_tv33_hv1_0_8665.root\n",
      "/nfs/dust/luxe/group/MCProduction/Signal/g4/ptarmigan-v0.11/elaser/phase1/npod/luxe_npod_signal_e1npod_0_5_165gev_cv9qgsphp_tv33_hv1_0_8666.root\n",
      "/nfs/dust/luxe/group/MCProduction/Signal/g4/ptarmigan-v0.11/elaser/phase1/npod/luxe_npod_signal_e1npod_0_5_165gev_cv9qgsphp_tv33_hv1_0_8667.root\n",
      "/nfs/dust/luxe/group/MCProduction/Signal/g4/ptarmigan-v0.11/elaser/phase1/npod/luxe_npod_signal_e1npod_0_5_165gev_cv9qgsphp_tv33_hv1_0_8668.root\n",
      "/nfs/dust/luxe/group/MCProduction/Signal/g4/ptarmigan-v0.11/elaser/phase1/npod/luxe_npod_signal_e1npod_0_5_165gev_cv9qgsphp_tv33_hv1_0_8669.root\n",
      "/nfs/dust/luxe/group/MCProduction/Signal/g4/ptarmigan-v0.11/elaser/phase1/npod/luxe_npod_signal_e1npod_0_5_165gev_cv9qgsphp_tv33_hv1_0_8670.root\n",
      "/nfs/dust/luxe/group/MCProduction/Signal/g4/ptarmigan-v0.11/elaser/phase1/npod/luxe_npod_signal_e1npod_0_5_165gev_cv9qgsphp_tv33_hv1_0_8671.root\n",
      "/nfs/dust/luxe/group/MCProduction/Signal/g4/ptarmigan-v0.11/elaser/phase1/npod/luxe_npod_signal_e1npod_0_5_165gev_cv9qgsphp_tv33_hv1_0_8672.root\n",
      "/nfs/dust/luxe/group/MCProduction/Signal/g4/ptarmigan-v0.11/elaser/phase1/npod/luxe_npod_signal_e1npod_0_5_165gev_cv9qgsphp_tv33_hv1_0_8673.root\n",
      "/nfs/dust/luxe/group/MCProduction/Signal/g4/ptarmigan-v0.11/elaser/phase1/npod/luxe_npod_signal_e1npod_0_5_165gev_cv9qgsphp_tv33_hv1_0_8674.root\n",
      "/nfs/dust/luxe/group/MCProduction/Signal/g4/ptarmigan-v0.11/elaser/phase1/npod/luxe_npod_signal_e1npod_0_5_165gev_cv9qgsphp_tv33_hv1_0_8675.root\n",
      "/nfs/dust/luxe/group/MCProduction/Signal/g4/ptarmigan-v0.11/elaser/phase1/npod/luxe_npod_signal_e1npod_0_5_165gev_cv9qgsphp_tv33_hv1_0_8676.root\n",
      "/nfs/dust/luxe/group/MCProduction/Signal/g4/ptarmigan-v0.11/elaser/phase1/npod/luxe_npod_signal_e1npod_0_5_165gev_cv9qgsphp_tv33_hv1_0_8677.root\n",
      "/nfs/dust/luxe/group/MCProduction/Signal/g4/ptarmigan-v0.11/elaser/phase1/npod/luxe_npod_signal_e1npod_0_5_165gev_cv9qgsphp_tv33_hv1_0_8678.root\n",
      "/nfs/dust/luxe/group/MCProduction/Signal/g4/ptarmigan-v0.11/elaser/phase1/npod/luxe_npod_signal_e1npod_0_5_165gev_cv9qgsphp_tv33_hv1_0_8679.root\n",
      "/nfs/dust/luxe/group/MCProduction/Signal/g4/ptarmigan-v0.11/elaser/phase1/npod/luxe_npod_signal_e1npod_0_5_165gev_cv9qgsphp_tv33_hv1_0_8680.root\n",
      "/nfs/dust/luxe/group/MCProduction/Signal/g4/ptarmigan-v0.11/elaser/phase1/npod/luxe_npod_signal_e1npod_0_5_165gev_cv9qgsphp_tv33_hv1_0_8681.root\n",
      "/nfs/dust/luxe/group/MCProduction/Signal/g4/ptarmigan-v0.11/elaser/phase1/npod/luxe_npod_signal_e1npod_0_5_165gev_cv9qgsphp_tv33_hv1_0_8682.root\n",
      "/nfs/dust/luxe/group/MCProduction/Signal/g4/ptarmigan-v0.11/elaser/phase1/npod/luxe_npod_signal_e1npod_0_5_165gev_cv9qgsphp_tv33_hv1_0_8683.root\n",
      "/nfs/dust/luxe/group/MCProduction/Signal/g4/ptarmigan-v0.11/elaser/phase1/npod/luxe_npod_signal_e1npod_0_5_165gev_cv9qgsphp_tv33_hv1_0_8684.root\n",
      "/nfs/dust/luxe/group/MCProduction/Signal/g4/ptarmigan-v0.11/elaser/phase1/npod/luxe_npod_signal_e1npod_0_5_165gev_cv9qgsphp_tv33_hv1_0_8685.root\n",
      "/nfs/dust/luxe/group/MCProduction/Signal/g4/ptarmigan-v0.11/elaser/phase1/npod/luxe_npod_signal_e1npod_0_5_165gev_cv9qgsphp_tv33_hv1_0_8686.root\n",
      "/nfs/dust/luxe/group/MCProduction/Signal/g4/ptarmigan-v0.11/elaser/phase1/npod/luxe_npod_signal_e1npod_0_5_165gev_cv9qgsphp_tv33_hv1_0_8687.root\n",
      "/nfs/dust/luxe/group/MCProduction/Signal/g4/ptarmigan-v0.11/elaser/phase1/npod/luxe_npod_signal_e1npod_0_5_165gev_cv9qgsphp_tv33_hv1_0_8688.root\n",
      "/nfs/dust/luxe/group/MCProduction/Signal/g4/ptarmigan-v0.11/elaser/phase1/npod/luxe_npod_signal_e1npod_0_5_165gev_cv9qgsphp_tv33_hv1_0_8689.root\n",
      "/nfs/dust/luxe/group/MCProduction/Signal/g4/ptarmigan-v0.11/elaser/phase1/npod/luxe_npod_signal_e1npod_0_5_165gev_cv9qgsphp_tv33_hv1_0_8690.root\n",
      "/nfs/dust/luxe/group/MCProduction/Signal/g4/ptarmigan-v0.11/elaser/phase1/npod/luxe_npod_signal_e1npod_0_5_165gev_cv9qgsphp_tv33_hv1_0_8691.root\n",
      "/nfs/dust/luxe/group/MCProduction/Signal/g4/ptarmigan-v0.11/elaser/phase1/npod/luxe_npod_signal_e1npod_0_5_165gev_cv9qgsphp_tv33_hv1_0_8692.root\n",
      "/nfs/dust/luxe/group/MCProduction/Signal/g4/ptarmigan-v0.11/elaser/phase1/npod/luxe_npod_signal_e1npod_0_5_165gev_cv9qgsphp_tv33_hv1_0_8693.root\n",
      "/nfs/dust/luxe/group/MCProduction/Signal/g4/ptarmigan-v0.11/elaser/phase1/npod/luxe_npod_signal_e1npod_0_5_165gev_cv9qgsphp_tv33_hv1_0_8694.root\n",
      "/nfs/dust/luxe/group/MCProduction/Signal/g4/ptarmigan-v0.11/elaser/phase1/npod/luxe_npod_signal_e1npod_0_5_165gev_cv9qgsphp_tv33_hv1_0_8695.root\n",
      "/nfs/dust/luxe/group/MCProduction/Signal/g4/ptarmigan-v0.11/elaser/phase1/npod/luxe_npod_signal_e1npod_0_5_165gev_cv9qgsphp_tv33_hv1_0_8696.root\n",
      "/nfs/dust/luxe/group/MCProduction/Signal/g4/ptarmigan-v0.11/elaser/phase1/npod/luxe_npod_signal_e1npod_0_5_165gev_cv9qgsphp_tv33_hv1_0_8697.root\n",
      "/nfs/dust/luxe/group/MCProduction/Signal/g4/ptarmigan-v0.11/elaser/phase1/npod/luxe_npod_signal_e1npod_0_5_165gev_cv9qgsphp_tv33_hv1_0_8698.root\n",
      "/nfs/dust/luxe/group/MCProduction/Signal/g4/ptarmigan-v0.11/elaser/phase1/npod/luxe_npod_signal_e1npod_0_5_165gev_cv9qgsphp_tv33_hv1_0_8699.root\n",
      "/nfs/dust/luxe/group/MCProduction/Signal/g4/ptarmigan-v0.11/elaser/phase1/npod/luxe_npod_signal_e1npod_0_5_165gev_cv9qgsphp_tv33_hv1_0_8700.root\n",
      "/nfs/dust/luxe/group/MCProduction/Signal/g4/ptarmigan-v0.11/elaser/phase1/npod/luxe_npod_signal_e1npod_0_5_165gev_cv9qgsphp_tv33_hv1_0_8701.root\n",
      "/nfs/dust/luxe/group/MCProduction/Signal/g4/ptarmigan-v0.11/elaser/phase1/npod/luxe_npod_signal_e1npod_0_5_165gev_cv9qgsphp_tv33_hv1_0_8702.root\n",
      "/nfs/dust/luxe/group/MCProduction/Signal/g4/ptarmigan-v0.11/elaser/phase1/npod/luxe_npod_signal_e1npod_0_5_165gev_cv9qgsphp_tv33_hv1_0_8703.root\n",
      "/nfs/dust/luxe/group/MCProduction/Signal/g4/ptarmigan-v0.11/elaser/phase1/npod/luxe_npod_signal_e1npod_0_5_165gev_cv9qgsphp_tv33_hv1_0_8704.root\n",
      "/nfs/dust/luxe/group/MCProduction/Signal/g4/ptarmigan-v0.11/elaser/phase1/npod/luxe_npod_signal_e1npod_0_5_165gev_cv9qgsphp_tv33_hv1_0_8705.root\n",
      "/nfs/dust/luxe/group/MCProduction/Signal/g4/ptarmigan-v0.11/elaser/phase1/npod/luxe_npod_signal_e1npod_0_5_165gev_cv9qgsphp_tv33_hv1_0_8706.root\n",
      "/nfs/dust/luxe/group/MCProduction/Signal/g4/ptarmigan-v0.11/elaser/phase1/npod/luxe_npod_signal_e1npod_0_5_165gev_cv9qgsphp_tv33_hv1_0_8707.root\n",
      "/nfs/dust/luxe/group/MCProduction/Signal/g4/ptarmigan-v0.11/elaser/phase1/npod/luxe_npod_signal_e1npod_0_5_165gev_cv9qgsphp_tv33_hv1_0_8708.root\n",
      "/nfs/dust/luxe/group/MCProduction/Signal/g4/ptarmigan-v0.11/elaser/phase1/npod/luxe_npod_signal_e1npod_0_5_165gev_cv9qgsphp_tv33_hv1_0_8709.root\n",
      "/nfs/dust/luxe/group/MCProduction/Signal/g4/ptarmigan-v0.11/elaser/phase1/npod/luxe_npod_signal_e1npod_0_5_165gev_cv9qgsphp_tv33_hv1_0_8710.root\n",
      "/nfs/dust/luxe/group/MCProduction/Signal/g4/ptarmigan-v0.11/elaser/phase1/npod/luxe_npod_signal_e1npod_0_5_165gev_cv9qgsphp_tv33_hv1_0_8711.root\n",
      "/nfs/dust/luxe/group/MCProduction/Signal/g4/ptarmigan-v0.11/elaser/phase1/npod/luxe_npod_signal_e1npod_0_5_165gev_cv9qgsphp_tv33_hv1_0_8712.root\n",
      "/nfs/dust/luxe/group/MCProduction/Signal/g4/ptarmigan-v0.11/elaser/phase1/npod/luxe_npod_signal_e1npod_0_5_165gev_cv9qgsphp_tv33_hv1_0_8713.root\n",
      "/nfs/dust/luxe/group/MCProduction/Signal/g4/ptarmigan-v0.11/elaser/phase1/npod/luxe_npod_signal_e1npod_0_5_165gev_cv9qgsphp_tv33_hv1_0_8714.root\n",
      "/nfs/dust/luxe/group/MCProduction/Signal/g4/ptarmigan-v0.11/elaser/phase1/npod/luxe_npod_signal_e1npod_0_5_165gev_cv9qgsphp_tv33_hv1_0_8715.root\n",
      "/nfs/dust/luxe/group/MCProduction/Signal/g4/ptarmigan-v0.11/elaser/phase1/npod/luxe_npod_signal_e1npod_0_5_165gev_cv9qgsphp_tv33_hv1_0_8716.root\n",
      "/nfs/dust/luxe/group/MCProduction/Signal/g4/ptarmigan-v0.11/elaser/phase1/npod/luxe_npod_signal_e1npod_0_5_165gev_cv9qgsphp_tv33_hv1_0_8717.root\n",
      "/nfs/dust/luxe/group/MCProduction/Signal/g4/ptarmigan-v0.11/elaser/phase1/npod/luxe_npod_signal_e1npod_0_5_165gev_cv9qgsphp_tv33_hv1_0_8718.root\n",
      "/nfs/dust/luxe/group/MCProduction/Signal/g4/ptarmigan-v0.11/elaser/phase1/npod/luxe_npod_signal_e1npod_0_5_165gev_cv9qgsphp_tv33_hv1_0_8719.root\n",
      "/nfs/dust/luxe/group/MCProduction/Signal/g4/ptarmigan-v0.11/elaser/phase1/npod/luxe_npod_signal_e1npod_0_5_165gev_cv9qgsphp_tv33_hv1_0_8720.root\n",
      "/nfs/dust/luxe/group/MCProduction/Signal/g4/ptarmigan-v0.11/elaser/phase1/npod/luxe_npod_signal_e1npod_0_5_165gev_cv9qgsphp_tv33_hv1_0_8721.root\n",
      "/nfs/dust/luxe/group/MCProduction/Signal/g4/ptarmigan-v0.11/elaser/phase1/npod/luxe_npod_signal_e1npod_0_5_165gev_cv9qgsphp_tv33_hv1_0_8722.root\n",
      "/nfs/dust/luxe/group/MCProduction/Signal/g4/ptarmigan-v0.11/elaser/phase1/npod/luxe_npod_signal_e1npod_0_5_165gev_cv9qgsphp_tv33_hv1_0_8723.root\n",
      "/nfs/dust/luxe/group/MCProduction/Signal/g4/ptarmigan-v0.11/elaser/phase1/npod/luxe_npod_signal_e1npod_0_5_165gev_cv9qgsphp_tv33_hv1_0_8724.root\n",
      "/nfs/dust/luxe/group/MCProduction/Signal/g4/ptarmigan-v0.11/elaser/phase1/npod/luxe_npod_signal_e1npod_0_5_165gev_cv9qgsphp_tv33_hv1_0_8725.root\n",
      "/nfs/dust/luxe/group/MCProduction/Signal/g4/ptarmigan-v0.11/elaser/phase1/npod/luxe_npod_signal_e1npod_0_5_165gev_cv9qgsphp_tv33_hv1_0_8726.root\n",
      "/nfs/dust/luxe/group/MCProduction/Signal/g4/ptarmigan-v0.11/elaser/phase1/npod/luxe_npod_signal_e1npod_0_5_165gev_cv9qgsphp_tv33_hv1_0_8727.root\n",
      "/nfs/dust/luxe/group/MCProduction/Signal/g4/ptarmigan-v0.11/elaser/phase1/npod/luxe_npod_signal_e1npod_0_5_165gev_cv9qgsphp_tv33_hv1_0_8728.root\n",
      "/nfs/dust/luxe/group/MCProduction/Signal/g4/ptarmigan-v0.11/elaser/phase1/npod/luxe_npod_signal_e1npod_0_5_165gev_cv9qgsphp_tv33_hv1_0_8729.root\n",
      "/nfs/dust/luxe/group/MCProduction/Signal/g4/ptarmigan-v0.11/elaser/phase1/npod/luxe_npod_signal_e1npod_0_5_165gev_cv9qgsphp_tv33_hv1_0_8730.root\n",
      "/nfs/dust/luxe/group/MCProduction/Signal/g4/ptarmigan-v0.11/elaser/phase1/npod/luxe_npod_signal_e1npod_0_5_165gev_cv9qgsphp_tv33_hv1_0_8731.root\n",
      "/nfs/dust/luxe/group/MCProduction/Signal/g4/ptarmigan-v0.11/elaser/phase1/npod/luxe_npod_signal_e1npod_0_5_165gev_cv9qgsphp_tv33_hv1_0_8732.root\n",
      "/nfs/dust/luxe/group/MCProduction/Signal/g4/ptarmigan-v0.11/elaser/phase1/npod/luxe_npod_signal_e1npod_0_5_165gev_cv9qgsphp_tv33_hv1_0_8733.root\n",
      "/nfs/dust/luxe/group/MCProduction/Signal/g4/ptarmigan-v0.11/elaser/phase1/npod/luxe_npod_signal_e1npod_0_5_165gev_cv9qgsphp_tv33_hv1_0_8734.root\n",
      "/nfs/dust/luxe/group/MCProduction/Signal/g4/ptarmigan-v0.11/elaser/phase1/npod/luxe_npod_signal_e1npod_0_5_165gev_cv9qgsphp_tv33_hv1_0_8735.root\n",
      "/nfs/dust/luxe/group/MCProduction/Signal/g4/ptarmigan-v0.11/elaser/phase1/npod/luxe_npod_signal_e1npod_0_5_165gev_cv9qgsphp_tv33_hv1_0_8736.root\n",
      "/nfs/dust/luxe/group/MCProduction/Signal/g4/ptarmigan-v0.11/elaser/phase1/npod/luxe_npod_signal_e1npod_0_5_165gev_cv9qgsphp_tv33_hv1_0_8737.root\n",
      "/nfs/dust/luxe/group/MCProduction/Signal/g4/ptarmigan-v0.11/elaser/phase1/npod/luxe_npod_signal_e1npod_0_5_165gev_cv9qgsphp_tv33_hv1_0_8738.root\n",
      "/nfs/dust/luxe/group/MCProduction/Signal/g4/ptarmigan-v0.11/elaser/phase1/npod/luxe_npod_signal_e1npod_0_5_165gev_cv9qgsphp_tv33_hv1_0_8739.root\n",
      "/nfs/dust/luxe/group/MCProduction/Signal/g4/ptarmigan-v0.11/elaser/phase1/npod/luxe_npod_signal_e1npod_0_5_165gev_cv9qgsphp_tv33_hv1_0_8740.root\n",
      "/nfs/dust/luxe/group/MCProduction/Signal/g4/ptarmigan-v0.11/elaser/phase1/npod/luxe_npod_signal_e1npod_0_5_165gev_cv9qgsphp_tv33_hv1_0_8741.root\n",
      "/nfs/dust/luxe/group/MCProduction/Signal/g4/ptarmigan-v0.11/elaser/phase1/npod/luxe_npod_signal_e1npod_0_5_165gev_cv9qgsphp_tv33_hv1_0_8742.root\n",
      "/nfs/dust/luxe/group/MCProduction/Signal/g4/ptarmigan-v0.11/elaser/phase1/npod/luxe_npod_signal_e1npod_0_5_165gev_cv9qgsphp_tv33_hv1_0_8743.root\n",
      "/nfs/dust/luxe/group/MCProduction/Signal/g4/ptarmigan-v0.11/elaser/phase1/npod/luxe_npod_signal_e1npod_0_5_165gev_cv9qgsphp_tv33_hv1_0_8744.root\n",
      "/nfs/dust/luxe/group/MCProduction/Signal/g4/ptarmigan-v0.11/elaser/phase1/npod/luxe_npod_signal_e1npod_0_5_165gev_cv9qgsphp_tv33_hv1_0_8745.root\n",
      "/nfs/dust/luxe/group/MCProduction/Signal/g4/ptarmigan-v0.11/elaser/phase1/npod/luxe_npod_signal_e1npod_0_5_165gev_cv9qgsphp_tv33_hv1_0_8746.root\n",
      "/nfs/dust/luxe/group/MCProduction/Signal/g4/ptarmigan-v0.11/elaser/phase1/npod/luxe_npod_signal_e1npod_0_5_165gev_cv9qgsphp_tv33_hv1_0_8747.root\n",
      "/nfs/dust/luxe/group/MCProduction/Signal/g4/ptarmigan-v0.11/elaser/phase1/npod/luxe_npod_signal_e1npod_0_5_165gev_cv9qgsphp_tv33_hv1_0_8748.root\n",
      "/nfs/dust/luxe/group/MCProduction/Signal/g4/ptarmigan-v0.11/elaser/phase1/npod/luxe_npod_signal_e1npod_0_5_165gev_cv9qgsphp_tv33_hv1_0_8749.root\n",
      "/nfs/dust/luxe/group/MCProduction/Signal/g4/ptarmigan-v0.11/elaser/phase1/npod/luxe_npod_signal_e1npod_0_5_165gev_cv9qgsphp_tv33_hv1_0_8750.root\n",
      "/nfs/dust/luxe/group/MCProduction/Signal/g4/ptarmigan-v0.11/elaser/phase1/npod/luxe_npod_signal_e1npod_0_5_165gev_cv9qgsphp_tv33_hv1_0_8751.root\n",
      "/nfs/dust/luxe/group/MCProduction/Signal/g4/ptarmigan-v0.11/elaser/phase1/npod/luxe_npod_signal_e1npod_0_5_165gev_cv9qgsphp_tv33_hv1_0_8752.root\n",
      "/nfs/dust/luxe/group/MCProduction/Signal/g4/ptarmigan-v0.11/elaser/phase1/npod/luxe_npod_signal_e1npod_0_5_165gev_cv9qgsphp_tv33_hv1_0_8753.root\n",
      "/nfs/dust/luxe/group/MCProduction/Signal/g4/ptarmigan-v0.11/elaser/phase1/npod/luxe_npod_signal_e1npod_0_5_165gev_cv9qgsphp_tv33_hv1_0_8754.root\n",
      "/nfs/dust/luxe/group/MCProduction/Signal/g4/ptarmigan-v0.11/elaser/phase1/npod/luxe_npod_signal_e1npod_0_5_165gev_cv9qgsphp_tv33_hv1_0_8755.root\n",
      "/nfs/dust/luxe/group/MCProduction/Signal/g4/ptarmigan-v0.11/elaser/phase1/npod/luxe_npod_signal_e1npod_0_5_165gev_cv9qgsphp_tv33_hv1_0_8756.root\n",
      "/nfs/dust/luxe/group/MCProduction/Signal/g4/ptarmigan-v0.11/elaser/phase1/npod/luxe_npod_signal_e1npod_0_5_165gev_cv9qgsphp_tv33_hv1_0_8757.root\n",
      "/nfs/dust/luxe/group/MCProduction/Signal/g4/ptarmigan-v0.11/elaser/phase1/npod/luxe_npod_signal_e1npod_0_5_165gev_cv9qgsphp_tv33_hv1_0_8758.root\n",
      "/nfs/dust/luxe/group/MCProduction/Signal/g4/ptarmigan-v0.11/elaser/phase1/npod/luxe_npod_signal_e1npod_0_5_165gev_cv9qgsphp_tv33_hv1_0_8759.root\n",
      "/nfs/dust/luxe/group/MCProduction/Signal/g4/ptarmigan-v0.11/elaser/phase1/npod/luxe_npod_signal_e1npod_0_5_165gev_cv9qgsphp_tv33_hv1_0_8760.root\n",
      "/nfs/dust/luxe/group/MCProduction/Signal/g4/ptarmigan-v0.11/elaser/phase1/npod/luxe_npod_signal_e1npod_0_5_165gev_cv9qgsphp_tv33_hv1_0_8761.root\n",
      "/nfs/dust/luxe/group/MCProduction/Signal/g4/ptarmigan-v0.11/elaser/phase1/npod/luxe_npod_signal_e1npod_0_5_165gev_cv9qgsphp_tv33_hv1_0_8762.root\n",
      "/nfs/dust/luxe/group/MCProduction/Signal/g4/ptarmigan-v0.11/elaser/phase1/npod/luxe_npod_signal_e1npod_0_5_165gev_cv9qgsphp_tv33_hv1_0_8763.root\n",
      "/nfs/dust/luxe/group/MCProduction/Signal/g4/ptarmigan-v0.11/elaser/phase1/npod/luxe_npod_signal_e1npod_0_5_165gev_cv9qgsphp_tv33_hv1_0_8764.root\n",
      "/nfs/dust/luxe/group/MCProduction/Signal/g4/ptarmigan-v0.11/elaser/phase1/npod/luxe_npod_signal_e1npod_0_5_165gev_cv9qgsphp_tv33_hv1_0_8765.root\n",
      "/nfs/dust/luxe/group/MCProduction/Signal/g4/ptarmigan-v0.11/elaser/phase1/npod/luxe_npod_signal_e1npod_0_5_165gev_cv9qgsphp_tv33_hv1_0_8766.root\n",
      "/nfs/dust/luxe/group/MCProduction/Signal/g4/ptarmigan-v0.11/elaser/phase1/npod/luxe_npod_signal_e1npod_0_5_165gev_cv9qgsphp_tv33_hv1_0_8767.root\n",
      "/nfs/dust/luxe/group/MCProduction/Signal/g4/ptarmigan-v0.11/elaser/phase1/npod/luxe_npod_signal_e1npod_0_5_165gev_cv9qgsphp_tv33_hv1_0_8768.root\n",
      "/nfs/dust/luxe/group/MCProduction/Signal/g4/ptarmigan-v0.11/elaser/phase1/npod/luxe_npod_signal_e1npod_0_5_165gev_cv9qgsphp_tv33_hv1_0_8769.root\n",
      "/nfs/dust/luxe/group/MCProduction/Signal/g4/ptarmigan-v0.11/elaser/phase1/npod/luxe_npod_signal_e1npod_0_5_165gev_cv9qgsphp_tv33_hv1_0_8770.root\n",
      "/nfs/dust/luxe/group/MCProduction/Signal/g4/ptarmigan-v0.11/elaser/phase1/npod/luxe_npod_signal_e1npod_0_5_165gev_cv9qgsphp_tv33_hv1_0_8771.root\n",
      "/nfs/dust/luxe/group/MCProduction/Signal/g4/ptarmigan-v0.11/elaser/phase1/npod/luxe_npod_signal_e1npod_0_5_165gev_cv9qgsphp_tv33_hv1_0_8772.root\n",
      "/nfs/dust/luxe/group/MCProduction/Signal/g4/ptarmigan-v0.11/elaser/phase1/npod/luxe_npod_signal_e1npod_0_5_165gev_cv9qgsphp_tv33_hv1_0_8773.root\n",
      "/nfs/dust/luxe/group/MCProduction/Signal/g4/ptarmigan-v0.11/elaser/phase1/npod/luxe_npod_signal_e1npod_0_5_165gev_cv9qgsphp_tv33_hv1_0_8774.root\n",
      "/nfs/dust/luxe/group/MCProduction/Signal/g4/ptarmigan-v0.11/elaser/phase1/npod/luxe_npod_signal_e1npod_0_5_165gev_cv9qgsphp_tv33_hv1_0_8775.root\n",
      "/nfs/dust/luxe/group/MCProduction/Signal/g4/ptarmigan-v0.11/elaser/phase1/npod/luxe_npod_signal_e1npod_0_5_165gev_cv9qgsphp_tv33_hv1_0_8776.root\n",
      "/nfs/dust/luxe/group/MCProduction/Signal/g4/ptarmigan-v0.11/elaser/phase1/npod/luxe_npod_signal_e1npod_0_5_165gev_cv9qgsphp_tv33_hv1_0_8777.root\n",
      "/nfs/dust/luxe/group/MCProduction/Signal/g4/ptarmigan-v0.11/elaser/phase1/npod/luxe_npod_signal_e1npod_0_5_165gev_cv9qgsphp_tv33_hv1_0_8778.root\n",
      "/nfs/dust/luxe/group/MCProduction/Signal/g4/ptarmigan-v0.11/elaser/phase1/npod/luxe_npod_signal_e1npod_0_5_165gev_cv9qgsphp_tv33_hv1_0_8779.root\n",
      "/nfs/dust/luxe/group/MCProduction/Signal/g4/ptarmigan-v0.11/elaser/phase1/npod/luxe_npod_signal_e1npod_0_5_165gev_cv9qgsphp_tv33_hv1_0_8780.root\n",
      "/nfs/dust/luxe/group/MCProduction/Signal/g4/ptarmigan-v0.11/elaser/phase1/npod/luxe_npod_signal_e1npod_0_5_165gev_cv9qgsphp_tv33_hv1_0_8781.root\n",
      "/nfs/dust/luxe/group/MCProduction/Signal/g4/ptarmigan-v0.11/elaser/phase1/npod/luxe_npod_signal_e1npod_0_5_165gev_cv9qgsphp_tv33_hv1_0_8782.root\n",
      "/nfs/dust/luxe/group/MCProduction/Signal/g4/ptarmigan-v0.11/elaser/phase1/npod/luxe_npod_signal_e1npod_0_5_165gev_cv9qgsphp_tv33_hv1_0_8783.root\n",
      "/nfs/dust/luxe/group/MCProduction/Signal/g4/ptarmigan-v0.11/elaser/phase1/npod/luxe_npod_signal_e1npod_0_5_165gev_cv9qgsphp_tv33_hv1_0_8784.root\n",
      "/nfs/dust/luxe/group/MCProduction/Signal/g4/ptarmigan-v0.11/elaser/phase1/npod/luxe_npod_signal_e1npod_0_5_165gev_cv9qgsphp_tv33_hv1_0_8785.root\n",
      "/nfs/dust/luxe/group/MCProduction/Signal/g4/ptarmigan-v0.11/elaser/phase1/npod/luxe_npod_signal_e1npod_0_5_165gev_cv9qgsphp_tv33_hv1_0_8786.root\n",
      "/nfs/dust/luxe/group/MCProduction/Signal/g4/ptarmigan-v0.11/elaser/phase1/npod/luxe_npod_signal_e1npod_0_5_165gev_cv9qgsphp_tv33_hv1_0_8787.root\n",
      "/nfs/dust/luxe/group/MCProduction/Signal/g4/ptarmigan-v0.11/elaser/phase1/npod/luxe_npod_signal_e1npod_0_5_165gev_cv9qgsphp_tv33_hv1_0_8788.root\n",
      "/nfs/dust/luxe/group/MCProduction/Signal/g4/ptarmigan-v0.11/elaser/phase1/npod/luxe_npod_signal_e1npod_0_5_165gev_cv9qgsphp_tv33_hv1_0_8789.root\n"
     ]
    }
   ],
   "source": [
    "!ls /nfs/dust/luxe/group/MCProduction/Signal/g4/ptarmigan-v0.11/elaser/phase1/npod/*root"
   ]
  },
  {
   "cell_type": "code",
   "execution_count": 2,
   "metadata": {},
   "outputs": [
    {
     "name": "stdout",
     "output_type": "stream",
     "text": [
      "Welcome to JupyROOT 6.24/06\n"
     ]
    }
   ],
   "source": [
    "# In case we want to use ROOT\n",
    "import ROOT"
   ]
  },
  {
   "cell_type": "code",
   "execution_count": 3,
   "metadata": {},
   "outputs": [],
   "source": [
    "# In case we want to use python stuff\n",
    "import numpy as np\n",
    "import pandas as pd\n",
    "import uproot"
   ]
  },
  {
   "cell_type": "markdown",
   "metadata": {},
   "source": [
    "The list of input files we want to read is stored in `npod_files_root.py` if we want to use ROOT."
   ]
  },
  {
   "cell_type": "code",
   "execution_count": 4,
   "metadata": {},
   "outputs": [],
   "source": [
    "from npod_files_root import npod_files_list_root"
   ]
  },
  {
   "cell_type": "markdown",
   "metadata": {},
   "source": [
    "### Primary Photons Energy Spectrum"
   ]
  },
  {
   "cell_type": "code",
   "execution_count": 8,
   "metadata": {},
   "outputs": [],
   "source": [
    "# Read the files loading them into a TChain\n",
    "ch = ROOT.TChain(\"Tracks\",\"Tracks\")\n",
    "\n",
    "for file in npod_files_list_root:\n",
    "    ch.Add(file)"
   ]
  },
  {
   "cell_type": "code",
   "execution_count": 9,
   "metadata": {},
   "outputs": [],
   "source": [
    "# Draw primary photons energy spectrum\n",
    "\n",
    "# First of all, check if a canvas already exists.\n",
    "# In that case, delete it\n",
    "try:\n",
    "    del c1\n",
    "except NameError:\n",
    "    pass\n",
    "\n",
    "try:\n",
    "    del h_primary\n",
    "except NameError:\n",
    "    pass\n",
    "\n",
    "# Then, create a canvas to draw the histogram\n",
    "c1 = ROOT.TCanvas(\"c1\", \"c1\")\n",
    "\n",
    "# Prepare the plot for the primary photons energy (0.05 GeV bins)\n",
    "h_primary = ROOT.TH1F(\"h_primary\",\"h_primary\", 500, 0, 25)"
   ]
  },
  {
   "cell_type": "markdown",
   "metadata": {},
   "source": [
    "Now we have to understand how to normalize the spectrum. We want to normalize to the number of photons per incoming electron.\n",
    "\n",
    "We know that we produce 1.5e9 electrons per bunch crossing.\n",
    "\n",
    "Since we processed only part of the NPOD sample, we are simulating only a fraction of the photons that would be produced in a bunch crossing.\n",
    "\n",
    "In an e-mail exchange with Sasha, we got total number of photons produced in a BX: `349712990` (about 350M) in the specific file we are processing: `e1npod_10x120_0000_particles.h5`.\n",
    "\n",
    "The actual number of primary photons present in each rootfile is obtained by looking at the number of particles with `detid==-1`."
   ]
  },
  {
   "cell_type": "code",
   "execution_count": 10,
   "metadata": {},
   "outputs": [
    {
     "data": {
      "text/plain": [
       "1540000"
      ]
     },
     "execution_count": 10,
     "metadata": {},
     "output_type": "execute_result"
    }
   ],
   "source": [
    "# Get total number of primary photons in the files available now\n",
    "h_photons = ROOT.TH1F(\"h_photons\",\"h_photons\", 500, 0, 25)\n",
    "ch.Draw(\"E>>h_photons\", \"detid==-1\", \"hist\")\n"
   ]
  },
  {
   "cell_type": "code",
   "execution_count": 11,
   "metadata": {},
   "outputs": [
    {
     "name": "stdout",
     "output_type": "stream",
     "text": [
      "1540000.0\n",
      "weight*(detid==48000 && pdg==22 && trackid==1)/(0.004403611086908725*1.5e9)\n"
     ]
    }
   ],
   "source": [
    "# Put the number into a variable\n",
    "n_primary_photons = h_photons.Integral()\n",
    "print(n_primary_photons)\n",
    "\n",
    "n_total_primary_photons = 349712990 # from Sasha\n",
    "weight_string = \"weight*(detid==48000 && pdg==22 && trackid==1)/({}*1.5e9)\".format(n_primary_photons/n_total_primary_photons)\n",
    "print(weight_string)\n"
   ]
  },
  {
   "cell_type": "code",
   "execution_count": 12,
   "metadata": {},
   "outputs": [
    {
     "data": {
      "text/plain": [
       "1453243"
      ]
     },
     "execution_count": 12,
     "metadata": {},
     "output_type": "execute_result"
    }
   ],
   "source": [
    "# Fill histogram\n",
    "ch.Draw(\"E>>h_primary\", weight_string, \"hist\")"
   ]
  },
  {
   "cell_type": "code",
   "execution_count": 13,
   "metadata": {},
   "outputs": [
    {
     "data": {
      "image/png": "[encoded data removed]",
      "text/plain": [
       "<IPython.core.display.Image object>"
      ]
     },
     "metadata": {},
     "output_type": "display_data"
    }
   ],
   "source": [
    "# Plot the histogram\n",
    "h_primary.Draw()\n",
    "c1.Modified()\n",
    "c1.Update()\n",
    "c1.Draw()"
   ]
  },
  {
   "cell_type": "code",
   "execution_count": 14,
   "metadata": {},
   "outputs": [
    {
     "data": {
      "image/png": "[encoded data removed]",
      "text/plain": [
       "<IPython.core.display.Image object>"
      ]
     },
     "metadata": {},
     "output_type": "display_data"
    }
   ],
   "source": [
    "# Plot the histogram\n",
    "c1.SetLogy()\n",
    "h_primary.Draw()\n",
    "c1.Modified()\n",
    "c1.Update()\n",
    "c1.Draw()"
   ]
  },
  {
   "cell_type": "code",
   "execution_count": 15,
   "metadata": {},
   "outputs": [],
   "source": [
    "# Save the histogram into a file\n",
    "out_file = ROOT.TFile(\"Photons_spectra.root\",\"recreate\")\n",
    "out_file.cd()\n",
    "h_primary.Write()\n",
    "out_file.Close()"
   ]
  },
  {
   "cell_type": "markdown",
   "metadata": {},
   "source": [
    "### Secondary Photons Energy Spectrum\n",
    "\n",
    "To estimate the secondary photons energy spectrum, we can use the `Trajectory` TTree.\n",
    "\n",
    "It contains"
   ]
  },
  {
   "cell_type": "code",
   "execution_count": 16,
   "metadata": {},
   "outputs": [],
   "source": [
    "# Read the files loading them into a TChain\n",
    "ch_secondaries = ROOT.TChain(\"Trajectory\",\"Trajectory\")\n",
    "\n",
    "for file in npod_files_list_root:\n",
    "    ch_secondaries.Add(file)"
   ]
  },
  {
   "cell_type": "code",
   "execution_count": 17,
   "metadata": {},
   "outputs": [],
   "source": [
    "# Draw primary photons energy spectrum\n",
    "\n",
    "# First of all, check if a canvas already exists.\n",
    "# In that case, delete it\n",
    "try:\n",
    "    del c2\n",
    "except NameError:\n",
    "    pass\n",
    "\n",
    "try:\n",
    "    del h_secondary\n",
    "except NameError:\n",
    "    pass\n",
    "\n",
    "# Then, create a canvas to draw the histogram\n",
    "c2 = ROOT.TCanvas(\"c2\", \"c2\")\n",
    "\n",
    "# Finally, plot the primary photons energy on a histogram (0.05 GeV bins)\n",
    "h_secondary = ROOT.TH1F(\"h_secondary\",\"h_secondary\", 500, 0, 25)"
   ]
  },
  {
   "cell_type": "markdown",
   "metadata": {},
   "source": [
    "We use the same normalization as for the primary photons."
   ]
  },
  {
   "cell_type": "code",
   "execution_count": 18,
   "metadata": {},
   "outputs": [
    {
     "name": "stdout",
     "output_type": "stream",
     "text": [
      "weight*(pdg==22 && trackid>1)/(0.004403611086908725*1.5e9)\n"
     ]
    }
   ],
   "source": [
    "n_total_primary_photons = 349712990 # from Sasha\n",
    "weight_string_secondaries = \"weight*(pdg==22 && trackid>1)/({}*1.5e9)\".format(n_primary_photons/n_total_primary_photons)\n",
    "print(weight_string_secondaries)"
   ]
  },
  {
   "cell_type": "code",
   "execution_count": 19,
   "metadata": {},
   "outputs": [
    {
     "data": {
      "text/plain": [
       "1258065933"
      ]
     },
     "execution_count": 19,
     "metadata": {},
     "output_type": "execute_result"
    }
   ],
   "source": [
    "# Fill the histogram\n",
    "ch_secondaries.Draw(\"E[0]>>h_secondary\", weight_string_secondaries, \"hist\")"
   ]
  },
  {
   "cell_type": "code",
   "execution_count": 20,
   "metadata": {},
   "outputs": [
    {
     "data": {
      "image/png": "[encoded data removed]",
      "text/plain": [
       "<IPython.core.display.Image object>"
      ]
     },
     "metadata": {},
     "output_type": "display_data"
    }
   ],
   "source": [
    "# Plot the histogram\n",
    "h_secondary.Draw()\n",
    "c2.Modified()\n",
    "c2.Update()\n",
    "c2.Draw()"
   ]
  },
  {
   "cell_type": "code",
   "execution_count": 22,
   "metadata": {},
   "outputs": [
    {
     "data": {
      "image/png": "[encoded data removed]",
      "text/plain": [
       "<IPython.core.display.Image object>"
      ]
     },
     "metadata": {},
     "output_type": "display_data"
    }
   ],
   "source": [
    "# Plot the histogram in log scale\n",
    "c2.SetLogy()\n",
    "h_secondary.Draw()\n",
    "c2.Modified()\n",
    "c2.Update()\n",
    "c2.Draw()"
   ]
  },
  {
   "cell_type": "code",
   "execution_count": 23,
   "metadata": {},
   "outputs": [],
   "source": [
    "# # Save the histogram into a file\n",
    "# out_file_secondary = ROOT.TFile(\"Secondary_Photons_spectra.root\",\"recreate\")\n",
    "# out_file_secondary.cd()\n",
    "# h_secondary.Write()\n",
    "# out_file_secondary.Close()"
   ]
  },
  {
   "cell_type": "code",
   "execution_count": 27,
   "metadata": {},
   "outputs": [],
   "source": [
    "# Draw the total photons energy spectrum\n",
    "\n",
    "# First of all, check if a canvas already exists.\n",
    "# In that case, delete it\n",
    "try:\n",
    "    del c3\n",
    "except NameError:\n",
    "    pass\n",
    "\n",
    "try:\n",
    "    del h_all\n",
    "except NameError:\n",
    "    pass\n"
   ]
  },
  {
   "cell_type": "code",
   "execution_count": 29,
   "metadata": {},
   "outputs": [
    {
     "data": {
      "text/plain": [
       "True"
      ]
     },
     "execution_count": 29,
     "metadata": {},
     "output_type": "execute_result"
    }
   ],
   "source": [
    "# Histogram with the sum of primary and secondary photons\n",
    "h_all = h_primary.Clone()\n",
    "h_all.SetName(\"h_all\")\n",
    "h_all.SetTitle(\"h_all\")\n",
    "h_all.Add(h_secondary)"
   ]
  },
  {
   "cell_type": "code",
   "execution_count": 30,
   "metadata": {},
   "outputs": [],
   "source": [
    "# Then, create a canvas and draw the histogram\n",
    "c3 = ROOT.TCanvas(\"c3\", \"c3\")"
   ]
  },
  {
   "cell_type": "code",
   "execution_count": 31,
   "metadata": {},
   "outputs": [
    {
     "data": {
      "image/png": "[encoded data removed]",
      "text/plain": [
       "<IPython.core.display.Image object>"
      ]
     },
     "metadata": {},
     "output_type": "display_data"
    }
   ],
   "source": [
    "# Plot the histogram\n",
    "h_all.Draw()\n",
    "c3.Modified()\n",
    "c3.Update()\n",
    "c3.Draw()"
   ]
  },
  {
   "cell_type": "code",
   "execution_count": 32,
   "metadata": {},
   "outputs": [
    {
     "data": {
      "image/png": "[encoded data removed]",
      "text/plain": [
       "<IPython.core.display.Image object>"
      ]
     },
     "metadata": {},
     "output_type": "display_data"
    }
   ],
   "source": [
    "# Plot the histogram in log scale\n",
    "c3.SetLogy()\n",
    "h_all.Draw()\n",
    "c3.Modified()\n",
    "c3.Update()\n",
    "c3.Draw()"
   ]
  },
  {
   "cell_type": "code",
   "execution_count": 33,
   "metadata": {},
   "outputs": [],
   "source": [
    "# Save the histograms into a file\n",
    "out_file_all = ROOT.TFile(\"Photons_spectra_all.root\",\"recreate\")\n",
    "out_file_all.cd()\n",
    "h_primary.Write()\n",
    "h_secondary.Write()\n",
    "h_all.Write()\n",
    "out_file_all.Close()"
   ]
  }
 ],
 "metadata": {
  "kernelspec": {
   "display_name": "Python 3.6.8 64-bit",
   "language": "python",
   "name": "python3"
  },
  "language_info": {
   "codemirror_mode": {
    "name": "ipython",
    "version": 3
   },
   "file_extension": ".py",
   "mimetype": "text/x-python",
   "name": "python",
   "nbconvert_exporter": "python",
   "pygments_lexer": "ipython3",
   "version": "3.6.8"
  },
  "orig_nbformat": 4,
  "vscode": {
   "interpreter": {
    "hash": "916dbcbb3f70747c44a77c7bcd40155683ae19c65e1c03b4aa3499c5328201f1"
   }
  }
 },
 "nbformat": 4,
 "nbformat_minor": 2
}
